{
 "cells": [
  {
   "cell_type": "markdown",
   "id": "c35e6a9b",
   "metadata": {},
   "source": [
    "# Prepare ImageNet mini\n",
    "\n",
    "This notebook shouldn't be completely executed at once. After the step 1, it is needed to execute the S-UNIWARD algorithm to create the stego images."
   ]
  },
  {
   "cell_type": "markdown",
   "id": "9f9daac9",
   "metadata": {},
   "source": [
    "## Constants & imports"
   ]
  },
  {
   "cell_type": "code",
   "execution_count": 2,
   "id": "caf13de2",
   "metadata": {},
   "outputs": [],
   "source": [
    "import glob\n",
    "import os\n",
    "import cv2\n",
    "import numpy as np\n",
    "import random\n",
    "\n",
    "from shutil import copyfile\n",
    "from PIL import Image, ImageOps"
   ]
  },
  {
   "cell_type": "code",
   "execution_count": null,
   "id": "0063fdf8",
   "metadata": {},
   "outputs": [],
   "source": [
    "# This is the directory in which the final data set will be stored\n",
    "OUTPUT_DIR = 'imagenet_0.4_256x256'"
   ]
  },
  {
   "cell_type": "markdown",
   "id": "a8ae472e",
   "metadata": {},
   "source": [
    "## 1. Get a subsample of the images\n",
    "\n",
    "We need 14.000 images for the train set, 1.000 for the validation set and 5.000 test set. This is required in order to do something similar to what SRNet used for training and comparing with other architectures.\n",
    "\n",
    "It is recommended to use a subset of ImageNet as the whole ImageNet set weights a lot. The one that was used in this case was the [imagenetmini-1000](https://www.kaggle.com/datasets/ifigotin/imagenetmini-1000)."
   ]
  },
  {
   "cell_type": "code",
   "execution_count": 3,
   "id": "715a45cf",
   "metadata": {},
   "outputs": [],
   "source": [
    "SOURCE_DIR = 'Path to the imagenet-mini folder'\n",
    "COVER_DIR = 'Path to store the cover images'\n",
    "TARGET_SIZE = (256, 256)\n",
    "SEED = 42\n",
    "\n",
    "# Set the seed\n",
    "random.seed(SEED)\n",
    "np.random.seed(SEED)"
   ]
  },
  {
   "cell_type": "code",
   "execution_count": 3,
   "id": "48a73b0a",
   "metadata": {},
   "outputs": [],
   "source": [
    "assert not os.path.isdir(COVER_DIR)\n",
    "os.mkdir(COVER_DIR)"
   ]
  },
  {
   "cell_type": "code",
   "execution_count": 4,
   "id": "4041024b",
   "metadata": {},
   "outputs": [
    {
     "name": "stdout",
     "output_type": "stream",
     "text": [
      "Wall time: 1min 34s\n"
     ]
    }
   ],
   "source": [
    "%%time\n",
    "# Get the full filename of all the images in the source data set\n",
    "image_full_filenames = glob.glob(os.path.join(SOURCE_DIR, '*', '*', '*'))\n",
    "\n",
    "# Select random images 20000 images\n",
    "sample_full_filenames = list(np.random.choice(image_full_filenames, size=20000, replace=False))\n",
    "\n",
    "# Resize the images and save them in PGM format.\n",
    "for index, full_filename in enumerate(sample_full_filenames):\n",
    "    # Read the image with PIL\n",
    "    pil_image = Image.open(full_filename)\n",
    "    \n",
    "    # Transform the image to grayscale\n",
    "    pil_image = ImageOps.grayscale(pil_image)\n",
    "\n",
    "    # Transform the image into a numpy array, resize it and transform it back again to PIL format\n",
    "    image_array = np.array(pil_image)\n",
    "    resized_image = cv2.resize(image_array, TARGET_SIZE, interpolation=cv2.INTER_AREA)\n",
    "    pil_resized_image = Image.fromarray(resized_image)\n",
    "\n",
    "    # Save the image with the same name but different extension\n",
    "    pil_resized_image.save(os.path.join(COVER_DIR, f'{index}.pgm'))"
   ]
  },
  {
   "cell_type": "markdown",
   "id": "77f7ae64",
   "metadata": {},
   "source": [
    "## 2. Create the stego images\n",
    "\n",
    "Once we have the preprocessed images, the stego images must be created by using any algorithm. The ones presented in the [Binghamton University website](http://dde.binghamton.edu/download/stego_algorithms/) are recommended due to their simplicity."
   ]
  },
  {
   "cell_type": "markdown",
   "id": "c3c90fe6",
   "metadata": {},
   "source": [
    "## 3. Split the whole data set\n",
    "\n",
    "We need to get the amount of images mentioned in the section 1 just in case we need to train another model."
   ]
  },
  {
   "cell_type": "code",
   "execution_count": 33,
   "id": "394562f9",
   "metadata": {},
   "outputs": [],
   "source": [
    "# Constants\n",
    "COVER_DIR = '../../dataset/ImageNet/imagenet_cover_256x256'\n",
    "STEGO_DIR = '../../dataset/ImageNet/imagenet_stego_0.4_256x256'\n",
    "\n",
    "# Set the seed again just in case.\n",
    "random.seed(SEED)\n",
    "np.random.seed(SEED)"
   ]
  },
  {
   "cell_type": "code",
   "execution_count": 29,
   "id": "69c63997",
   "metadata": {},
   "outputs": [],
   "source": [
    "# Get the filenames of the cover images\n",
    "cover_filenames = os.listdir(COVER_DIR)\n",
    "random.shuffle(cover_filenames)\n",
    "\n",
    "# Select the images of each image set\n",
    "train_filenames = cover_filenames[:14000]\n",
    "val_filenames = cover_filenames[14000:15000]\n",
    "test_filenames = cover_filenames[15000:]"
   ]
  },
  {
   "cell_type": "code",
   "execution_count": 30,
   "id": "16f1536a",
   "metadata": {},
   "outputs": [],
   "source": [
    "assert set(test_filenames) & set(val_filenames) & set(train_filenames) == set()\n",
    "assert set(test_filenames) & set(val_filenames) == set()\n",
    "assert set(test_filenames) & set(train_filenames) == set()\n",
    "assert set(val_filenames) & set(train_filenames) == set()"
   ]
  },
  {
   "cell_type": "code",
   "execution_count": 34,
   "id": "4e8225ee",
   "metadata": {},
   "outputs": [],
   "source": [
    "# Generate the folders necessary to train and test.\n",
    "assert not os.path.isdir(OUTPUT_DIR)\n",
    "os.mkdir(OUTPUT_DIR)\n",
    "\n",
    "sets = ['train', 'val', 'test']\n",
    "for set_name in sets:\n",
    "    os.mkdir(os.path.join(OUTPUT_DIR, set_name))\n",
    "    os.mkdir(os.path.join(OUTPUT_DIR, set_name, '0'))\n",
    "    os.mkdir(os.path.join(OUTPUT_DIR, set_name, '1'))"
   ]
  },
  {
   "cell_type": "code",
   "execution_count": 35,
   "id": "5ca5fff0",
   "metadata": {},
   "outputs": [],
   "source": [
    "# Copy the images into their respective folders\n",
    "def copy_images_stego_cover_repetition_in_set(filenames, set_name, cover_dir, stego_dir):\n",
    "    \n",
    "    # Copy all the files into their respective folder\n",
    "    for image_name in filenames:\n",
    "        copyfile(os.path.join(cover_dir, image_name), \n",
    "                 os.path.join(OUTPUT_DIR, set_name, '0', image_name))\n",
    "        \n",
    "        copyfile(os.path.join(stego_dir, image_name), \n",
    "                 os.path.join(OUTPUT_DIR, set_name, '1', image_name))\n",
    "\n",
    "# Execute the splitting\n",
    "copy_images_stego_cover_repetition_in_set(train_filenames, 'train', COVER_DIR, STEGO_DIR)\n",
    "copy_images_stego_cover_repetition_in_set(val_filenames, 'val', COVER_DIR, STEGO_DIR)\n",
    "copy_images_stego_cover_repetition_in_set(test_filenames, 'test', COVER_DIR, STEGO_DIR)"
   ]
  },
  {
   "cell_type": "markdown",
   "id": "6f9eca42",
   "metadata": {},
   "source": [
    "## 4. Transform all the images to png\n",
    "\n",
    "Once the data set is totally created, we need to transform all the images to PNG in order to use them with Keras."
   ]
  },
  {
   "cell_type": "code",
   "execution_count": 40,
   "id": "0f5f3b2c",
   "metadata": {},
   "outputs": [],
   "source": [
    "# Get all the images in every set\n",
    "pgm_paths = glob.glob(os.path.join(OUTPUT_DIR, '*', '*', '*'))\n",
    "\n",
    "# Transform all the images \n",
    "for pgm_path in pgm_paths:\n",
    "    # Read the pgm file\n",
    "    pgm_array = cv2.imread(pgm_path, -1)\n",
    "    \n",
    "    # Remove the old pgm file\n",
    "    os.remove(pgm_path)\n",
    "    \n",
    "    # Write again the array as a png file\n",
    "    cv2.imwrite(pgm_path[:-3] + \"png\", pgm_array)"
   ]
  }
 ],
 "metadata": {
  "kernelspec": {
   "display_name": "Python 3 (ipykernel)",
   "language": "python",
   "name": "python3"
  },
  "language_info": {
   "codemirror_mode": {
    "name": "ipython",
    "version": 3
   },
   "file_extension": ".py",
   "mimetype": "text/x-python",
   "name": "python",
   "nbconvert_exporter": "python",
   "pygments_lexer": "ipython3",
   "version": "3.8.12"
  }
 },
 "nbformat": 4,
 "nbformat_minor": 5
}
